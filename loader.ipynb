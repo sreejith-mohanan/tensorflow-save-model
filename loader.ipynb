{
 "cells": [
  {
   "cell_type": "code",
   "execution_count": 1,
   "metadata": {
    "collapsed": true
   },
   "outputs": [],
   "source": [
    "import tensorflow as tf"
   ]
  },
  {
   "cell_type": "code",
   "execution_count": 3,
   "metadata": {},
   "outputs": [
    {
     "name": "stdout",
     "output_type": "stream",
     "text": [
      "weights : \n",
      "[[ 0.3543286  -0.56371665  0.14997749]\n",
      " [-0.06521665  1.3028779   0.41212609]]\n",
      "biases : \n",
      "[ 0.193979   -0.08566199 -0.09524798]\n"
     ]
    }
   ],
   "source": [
    "weights = tf.Variable(tf.truncated_normal([2,3]))\n",
    "biases = tf.Variable(tf.truncated_normal([3]))\n",
    "\n",
    "save_file = './weights.ckpt'\n",
    "\n",
    "saver = tf.train.Saver()\n",
    "\n",
    "with tf.Session() as session:\n",
    "    saver.restore(session, save_file)\n",
    "    print('weights : ')\n",
    "    print(session.run(weights))\n",
    "    print('biases : ')\n",
    "    print(session.run(biases))"
   ]
  },
  {
   "cell_type": "code",
   "execution_count": null,
   "metadata": {
    "collapsed": true
   },
   "outputs": [],
   "source": []
  }
 ],
 "metadata": {
  "kernelspec": {
   "display_name": "Python [conda env:carnd-term1]",
   "language": "python",
   "name": "conda-env-carnd-term1-py"
  },
  "language_info": {
   "codemirror_mode": {
    "name": "ipython",
    "version": 3
   },
   "file_extension": ".py",
   "mimetype": "text/x-python",
   "name": "python",
   "nbconvert_exporter": "python",
   "pygments_lexer": "ipython3",
   "version": "3.5.2"
  },
  "widgets": {
   "state": {},
   "version": "1.1.2"
  }
 },
 "nbformat": 4,
 "nbformat_minor": 2
}
